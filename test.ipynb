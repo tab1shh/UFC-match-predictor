{
 "cells": [
  {
   "cell_type": "code",
   "execution_count": 3,
   "metadata": {},
   "outputs": [
    {
     "name": "stdout",
     "output_type": "stream",
     "text": [
      "Accuracy: 0.6218487394957983\n",
      "Training Time: 0.91 seconds\n"
     ]
    }
   ],
   "source": [
    "import pandas as pd\n",
    "from sklearn.preprocessing import LabelEncoder\n",
    "from sklearn.model_selection import train_test_split\n",
    "from sklearn.ensemble import RandomForestClassifier\n",
    "from sklearn.metrics import accuracy_score\n",
    "import time\n",
    "\n",
    "start_time = time.time()\n",
    "\n",
    "# Load data\n",
    "file_path = 'test.csv'\n",
    "ufc_stats = pd.read_csv(file_path, encoding='latin-1')\n",
    "\n",
    "# Encode categorical columns\n",
    "le = LabelEncoder()\n",
    "ufc_stats['stance'] = le.fit_transform(ufc_stats['stance'])\n",
    "\n",
    "# Convert percentages to numerical data\n",
    "for col in ['win_rate', 'loss_rate', 'draw_rate', 'dc_nc_rate', 'career_StrDef', 'career_TD_Acc', 'career_TD_Def']:\n",
    "    ufc_stats[col] = ufc_stats[col].str.replace('%', '').astype(float) / 100\n",
    "\n",
    "# Helper functions\n",
    "def get_fighter_stats(name, df):\n",
    "    \"\"\"Fetch fighter stats from the DataFrame.\"\"\"\n",
    "    return df[df['fighter_name'] == name].iloc[0]\n",
    "\n",
    "def compute_features(f1, f2, df):\n",
    "    \"\"\"Find numerical differences between two fighters' stats.\"\"\"\n",
    "    f1_stats = get_fighter_stats(f1, df)\n",
    "    f2_stats = get_fighter_stats(f2, df)\n",
    "    features = {}\n",
    "    for col in df.columns:\n",
    "        if df[col].dtype in [float, int] and col != 'fighter_name':\n",
    "            features[f\"{col}_diff\"] = abs(f1_stats[col] - f2_stats[col])\n",
    "    return features\n",
    "\n",
    "# Prepare data for training\n",
    "features = []\n",
    "labels = []\n",
    "\n",
    "for i in range(len(ufc_stats)):\n",
    "    for j in range(i + 1, len(ufc_stats)):\n",
    "        f1 = ufc_stats.iloc[i]['fighter_name']\n",
    "        f2 = ufc_stats.iloc[j]['fighter_name']\n",
    "        computing_features = compute_features(f1, f2, ufc_stats)\n",
    "        features.append(list(computing_features.values()))\n",
    "        labels.append(1 if ufc_stats.iloc[i]['f_wins'] > ufc_stats.iloc[j]['f_wins'] else 0)\n",
    "\n",
    "# Convert to DataFrame\n",
    "features = pd.DataFrame(features)\n",
    "labels = pd.Series(labels)\n",
    "\n",
    "# Train-test split\n",
    "features_train, features_test, labels_train, labels_test = train_test_split(\n",
    "    features, labels, test_size=0.2, random_state=42\n",
    ")\n",
    "\n",
    "# Train the model\n",
    "model = RandomForestClassifier()\n",
    "model.fit(features_train, labels_train)\n",
    "\n",
    "# Evaluate the model\n",
    "labels_pred = model.predict(features_test)\n",
    "print(\"Accuracy:\", accuracy_score(labels_test, labels_pred))\n",
    "\n",
    "end_time = time.time()\n",
    "\n",
    "print(f\"Training Time: {end_time - start_time:.2f} seconds\")"
   ]
  },
  {
   "cell_type": "code",
   "execution_count": 23,
   "metadata": {},
   "outputs": [
    {
     "name": "stdout",
     "output_type": "stream",
     "text": [
      "The predicted winner is: Israel Adesanya\n"
     ]
    },
    {
     "name": "stderr",
     "output_type": "stream",
     "text": [
      "C:\\Users\\User\\AppData\\Roaming\\Python\\Python312\\site-packages\\sklearn\\base.py:486: UserWarning: X has feature names, but RandomForestClassifier was fitted without feature names\n",
      "  warnings.warn(\n"
     ]
    }
   ],
   "source": [
    "fighter1 = \"Tom Aaron\"\n",
    "fighter2 = \"Israel Adesanya\"\n",
    "\n",
    "# Compute features for the given fighters\n",
    "features = compute_features(fighter1, fighter2, ufc_stats)\n",
    "features_df = pd.DataFrame([features])\n",
    "\n",
    "# Predict winner\n",
    "prediction = model.predict(features_df)\n",
    "print(f\"The predicted winner is: {fighter1 if prediction[0] == 1 else fighter2}\")"
   ]
  }
 ],
 "metadata": {
  "kernelspec": {
   "display_name": "Python 3",
   "language": "python",
   "name": "python3"
  },
  "language_info": {
   "codemirror_mode": {
    "name": "ipython",
    "version": 3
   },
   "file_extension": ".py",
   "mimetype": "text/x-python",
   "name": "python",
   "nbconvert_exporter": "python",
   "pygments_lexer": "ipython3",
   "version": "3.12.6"
  }
 },
 "nbformat": 4,
 "nbformat_minor": 2
}
